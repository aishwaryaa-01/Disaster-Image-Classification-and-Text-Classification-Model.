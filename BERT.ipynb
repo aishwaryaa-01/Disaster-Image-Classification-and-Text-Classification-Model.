{
  "nbformat": 4,
  "nbformat_minor": 0,
  "metadata": {
    "colab": {
      "provenance": []
    },
    "kernelspec": {
      "name": "python3",
      "display_name": "Python 3"
    },
    "language_info": {
      "name": "python"
    }
  },
  "cells": [
    {
      "cell_type": "code",
      "execution_count": 1,
      "metadata": {
        "id": "xxHa-kq5207x"
      },
      "outputs": [],
      "source": [
        "import pandas as pd\n",
        "import numpy as np"
      ]
    },
    {
      "cell_type": "code",
      "source": [
        "df = pd.read_csv('output.csv')"
      ],
      "metadata": {
        "id": "NSKYjB4927yF"
      },
      "execution_count": 2,
      "outputs": []
    },
    {
      "cell_type": "code",
      "source": [
        "df.head()"
      ],
      "metadata": {
        "colab": {
          "base_uri": "https://localhost:8080/",
          "height": 206
        },
        "id": "VbN9h2bz3ExT",
        "outputId": "9d1e04e6-70d8-4e39-a2bc-96516bf60544"
      },
      "execution_count": 3,
      "outputs": [
        {
          "output_type": "execute_result",
          "data": {
            "text/plain": [
              "               tweet_id                                         tweet_text  \\\n",
              "0  '504075795435094016'  Bridges, overpasses earn approval after Northe...   \n",
              "1  '503765744333901824'  Say what you want, but the earthquake that hit...   \n",
              "2  '503741064067313665'  Cool data analysis of today's Napa earthquake ...   \n",
              "3  '503910039715725312'  California assessing damage after large quake ...   \n",
              "4  '503892224589848576'  RT @heyyouapp: California USA Rancho Cucamonga...   \n",
              "\n",
              "                                 label  \n",
              "0  infrastructure_and_utilities_damage  \n",
              "1             other_useful_information  \n",
              "2             other_useful_information  \n",
              "3  infrastructure_and_utilities_damage  \n",
              "4                   caution_and_advice  "
            ],
            "text/html": [
              "\n",
              "  <div id=\"df-edd1a959-0871-446e-98fd-ac1f89c8ff45\" class=\"colab-df-container\">\n",
              "    <div>\n",
              "<style scoped>\n",
              "    .dataframe tbody tr th:only-of-type {\n",
              "        vertical-align: middle;\n",
              "    }\n",
              "\n",
              "    .dataframe tbody tr th {\n",
              "        vertical-align: top;\n",
              "    }\n",
              "\n",
              "    .dataframe thead th {\n",
              "        text-align: right;\n",
              "    }\n",
              "</style>\n",
              "<table border=\"1\" class=\"dataframe\">\n",
              "  <thead>\n",
              "    <tr style=\"text-align: right;\">\n",
              "      <th></th>\n",
              "      <th>tweet_id</th>\n",
              "      <th>tweet_text</th>\n",
              "      <th>label</th>\n",
              "    </tr>\n",
              "  </thead>\n",
              "  <tbody>\n",
              "    <tr>\n",
              "      <th>0</th>\n",
              "      <td>'504075795435094016'</td>\n",
              "      <td>Bridges, overpasses earn approval after Northe...</td>\n",
              "      <td>infrastructure_and_utilities_damage</td>\n",
              "    </tr>\n",
              "    <tr>\n",
              "      <th>1</th>\n",
              "      <td>'503765744333901824'</td>\n",
              "      <td>Say what you want, but the earthquake that hit...</td>\n",
              "      <td>other_useful_information</td>\n",
              "    </tr>\n",
              "    <tr>\n",
              "      <th>2</th>\n",
              "      <td>'503741064067313665'</td>\n",
              "      <td>Cool data analysis of today's Napa earthquake ...</td>\n",
              "      <td>other_useful_information</td>\n",
              "    </tr>\n",
              "    <tr>\n",
              "      <th>3</th>\n",
              "      <td>'503910039715725312'</td>\n",
              "      <td>California assessing damage after large quake ...</td>\n",
              "      <td>infrastructure_and_utilities_damage</td>\n",
              "    </tr>\n",
              "    <tr>\n",
              "      <th>4</th>\n",
              "      <td>'503892224589848576'</td>\n",
              "      <td>RT @heyyouapp: California USA Rancho Cucamonga...</td>\n",
              "      <td>caution_and_advice</td>\n",
              "    </tr>\n",
              "  </tbody>\n",
              "</table>\n",
              "</div>\n",
              "    <div class=\"colab-df-buttons\">\n",
              "\n",
              "  <div class=\"colab-df-container\">\n",
              "    <button class=\"colab-df-convert\" onclick=\"convertToInteractive('df-edd1a959-0871-446e-98fd-ac1f89c8ff45')\"\n",
              "            title=\"Convert this dataframe to an interactive table.\"\n",
              "            style=\"display:none;\">\n",
              "\n",
              "  <svg xmlns=\"http://www.w3.org/2000/svg\" height=\"24px\" viewBox=\"0 -960 960 960\">\n",
              "    <path d=\"M120-120v-720h720v720H120Zm60-500h600v-160H180v160Zm220 220h160v-160H400v160Zm0 220h160v-160H400v160ZM180-400h160v-160H180v160Zm440 0h160v-160H620v160ZM180-180h160v-160H180v160Zm440 0h160v-160H620v160Z\"/>\n",
              "  </svg>\n",
              "    </button>\n",
              "\n",
              "  <style>\n",
              "    .colab-df-container {\n",
              "      display:flex;\n",
              "      gap: 12px;\n",
              "    }\n",
              "\n",
              "    .colab-df-convert {\n",
              "      background-color: #E8F0FE;\n",
              "      border: none;\n",
              "      border-radius: 50%;\n",
              "      cursor: pointer;\n",
              "      display: none;\n",
              "      fill: #1967D2;\n",
              "      height: 32px;\n",
              "      padding: 0 0 0 0;\n",
              "      width: 32px;\n",
              "    }\n",
              "\n",
              "    .colab-df-convert:hover {\n",
              "      background-color: #E2EBFA;\n",
              "      box-shadow: 0px 1px 2px rgba(60, 64, 67, 0.3), 0px 1px 3px 1px rgba(60, 64, 67, 0.15);\n",
              "      fill: #174EA6;\n",
              "    }\n",
              "\n",
              "    .colab-df-buttons div {\n",
              "      margin-bottom: 4px;\n",
              "    }\n",
              "\n",
              "    [theme=dark] .colab-df-convert {\n",
              "      background-color: #3B4455;\n",
              "      fill: #D2E3FC;\n",
              "    }\n",
              "\n",
              "    [theme=dark] .colab-df-convert:hover {\n",
              "      background-color: #434B5C;\n",
              "      box-shadow: 0px 1px 3px 1px rgba(0, 0, 0, 0.15);\n",
              "      filter: drop-shadow(0px 1px 2px rgba(0, 0, 0, 0.3));\n",
              "      fill: #FFFFFF;\n",
              "    }\n",
              "  </style>\n",
              "\n",
              "    <script>\n",
              "      const buttonEl =\n",
              "        document.querySelector('#df-edd1a959-0871-446e-98fd-ac1f89c8ff45 button.colab-df-convert');\n",
              "      buttonEl.style.display =\n",
              "        google.colab.kernel.accessAllowed ? 'block' : 'none';\n",
              "\n",
              "      async function convertToInteractive(key) {\n",
              "        const element = document.querySelector('#df-edd1a959-0871-446e-98fd-ac1f89c8ff45');\n",
              "        const dataTable =\n",
              "          await google.colab.kernel.invokeFunction('convertToInteractive',\n",
              "                                                    [key], {});\n",
              "        if (!dataTable) return;\n",
              "\n",
              "        const docLinkHtml = 'Like what you see? Visit the ' +\n",
              "          '<a target=\"_blank\" href=https://colab.research.google.com/notebooks/data_table.ipynb>data table notebook</a>'\n",
              "          + ' to learn more about interactive tables.';\n",
              "        element.innerHTML = '';\n",
              "        dataTable['output_type'] = 'display_data';\n",
              "        await google.colab.output.renderOutput(dataTable, element);\n",
              "        const docLink = document.createElement('div');\n",
              "        docLink.innerHTML = docLinkHtml;\n",
              "        element.appendChild(docLink);\n",
              "      }\n",
              "    </script>\n",
              "  </div>\n",
              "\n",
              "\n",
              "<div id=\"df-8a531d35-8fbc-4534-bf1e-11296f3568e4\">\n",
              "  <button class=\"colab-df-quickchart\" onclick=\"quickchart('df-8a531d35-8fbc-4534-bf1e-11296f3568e4')\"\n",
              "            title=\"Suggest charts\"\n",
              "            style=\"display:none;\">\n",
              "\n",
              "<svg xmlns=\"http://www.w3.org/2000/svg\" height=\"24px\"viewBox=\"0 0 24 24\"\n",
              "     width=\"24px\">\n",
              "    <g>\n",
              "        <path d=\"M19 3H5c-1.1 0-2 .9-2 2v14c0 1.1.9 2 2 2h14c1.1 0 2-.9 2-2V5c0-1.1-.9-2-2-2zM9 17H7v-7h2v7zm4 0h-2V7h2v10zm4 0h-2v-4h2v4z\"/>\n",
              "    </g>\n",
              "</svg>\n",
              "  </button>\n",
              "\n",
              "<style>\n",
              "  .colab-df-quickchart {\n",
              "      --bg-color: #E8F0FE;\n",
              "      --fill-color: #1967D2;\n",
              "      --hover-bg-color: #E2EBFA;\n",
              "      --hover-fill-color: #174EA6;\n",
              "      --disabled-fill-color: #AAA;\n",
              "      --disabled-bg-color: #DDD;\n",
              "  }\n",
              "\n",
              "  [theme=dark] .colab-df-quickchart {\n",
              "      --bg-color: #3B4455;\n",
              "      --fill-color: #D2E3FC;\n",
              "      --hover-bg-color: #434B5C;\n",
              "      --hover-fill-color: #FFFFFF;\n",
              "      --disabled-bg-color: #3B4455;\n",
              "      --disabled-fill-color: #666;\n",
              "  }\n",
              "\n",
              "  .colab-df-quickchart {\n",
              "    background-color: var(--bg-color);\n",
              "    border: none;\n",
              "    border-radius: 50%;\n",
              "    cursor: pointer;\n",
              "    display: none;\n",
              "    fill: var(--fill-color);\n",
              "    height: 32px;\n",
              "    padding: 0;\n",
              "    width: 32px;\n",
              "  }\n",
              "\n",
              "  .colab-df-quickchart:hover {\n",
              "    background-color: var(--hover-bg-color);\n",
              "    box-shadow: 0 1px 2px rgba(60, 64, 67, 0.3), 0 1px 3px 1px rgba(60, 64, 67, 0.15);\n",
              "    fill: var(--button-hover-fill-color);\n",
              "  }\n",
              "\n",
              "  .colab-df-quickchart-complete:disabled,\n",
              "  .colab-df-quickchart-complete:disabled:hover {\n",
              "    background-color: var(--disabled-bg-color);\n",
              "    fill: var(--disabled-fill-color);\n",
              "    box-shadow: none;\n",
              "  }\n",
              "\n",
              "  .colab-df-spinner {\n",
              "    border: 2px solid var(--fill-color);\n",
              "    border-color: transparent;\n",
              "    border-bottom-color: var(--fill-color);\n",
              "    animation:\n",
              "      spin 1s steps(1) infinite;\n",
              "  }\n",
              "\n",
              "  @keyframes spin {\n",
              "    0% {\n",
              "      border-color: transparent;\n",
              "      border-bottom-color: var(--fill-color);\n",
              "      border-left-color: var(--fill-color);\n",
              "    }\n",
              "    20% {\n",
              "      border-color: transparent;\n",
              "      border-left-color: var(--fill-color);\n",
              "      border-top-color: var(--fill-color);\n",
              "    }\n",
              "    30% {\n",
              "      border-color: transparent;\n",
              "      border-left-color: var(--fill-color);\n",
              "      border-top-color: var(--fill-color);\n",
              "      border-right-color: var(--fill-color);\n",
              "    }\n",
              "    40% {\n",
              "      border-color: transparent;\n",
              "      border-right-color: var(--fill-color);\n",
              "      border-top-color: var(--fill-color);\n",
              "    }\n",
              "    60% {\n",
              "      border-color: transparent;\n",
              "      border-right-color: var(--fill-color);\n",
              "    }\n",
              "    80% {\n",
              "      border-color: transparent;\n",
              "      border-right-color: var(--fill-color);\n",
              "      border-bottom-color: var(--fill-color);\n",
              "    }\n",
              "    90% {\n",
              "      border-color: transparent;\n",
              "      border-bottom-color: var(--fill-color);\n",
              "    }\n",
              "  }\n",
              "</style>\n",
              "\n",
              "  <script>\n",
              "    async function quickchart(key) {\n",
              "      const quickchartButtonEl =\n",
              "        document.querySelector('#' + key + ' button');\n",
              "      quickchartButtonEl.disabled = true;  // To prevent multiple clicks.\n",
              "      quickchartButtonEl.classList.add('colab-df-spinner');\n",
              "      try {\n",
              "        const charts = await google.colab.kernel.invokeFunction(\n",
              "            'suggestCharts', [key], {});\n",
              "      } catch (error) {\n",
              "        console.error('Error during call to suggestCharts:', error);\n",
              "      }\n",
              "      quickchartButtonEl.classList.remove('colab-df-spinner');\n",
              "      quickchartButtonEl.classList.add('colab-df-quickchart-complete');\n",
              "    }\n",
              "    (() => {\n",
              "      let quickchartButtonEl =\n",
              "        document.querySelector('#df-8a531d35-8fbc-4534-bf1e-11296f3568e4 button');\n",
              "      quickchartButtonEl.style.display =\n",
              "        google.colab.kernel.accessAllowed ? 'block' : 'none';\n",
              "    })();\n",
              "  </script>\n",
              "</div>\n",
              "\n",
              "    </div>\n",
              "  </div>\n"
            ],
            "application/vnd.google.colaboratory.intrinsic+json": {
              "type": "dataframe",
              "variable_name": "df",
              "summary": "{\n  \"name\": \"df\",\n  \"rows\": 1701,\n  \"fields\": [\n    {\n      \"column\": \" tweet_id\",\n      \"properties\": {\n        \"dtype\": \"string\",\n        \"num_unique_values\": 1701,\n        \"samples\": [\n          \"'505007503936339968'\",\n          \"'503700445651410944'\",\n          \"'503934248257347584'\"\n        ],\n        \"semantic_type\": \"\",\n        \"description\": \"\"\n      }\n    },\n    {\n      \"column\": \"tweet_text\",\n      \"properties\": {\n        \"dtype\": \"string\",\n        \"num_unique_values\": 1701,\n        \"samples\": [\n          \"RT @FabianKeiser: The Ring of Fire gets angry? Yesterday #Earthquake in #Chile (6.6). Today in #California (6.0) and now #Peru (7.0). http:\\u2026\",\n          \"#RT #ipad #iphone VIDEO: California shaken by earthquake http://t.co/3ajpHAarpy #app http://t.co/jRVYofNltS\",\n          \"RT @ABC7Chicago: UPDATE: Earthquake in California's Napa Valley near San Francisco injures at least 211 http://t.co/OyVj8rTn2O\"\n        ],\n        \"semantic_type\": \"\",\n        \"description\": \"\"\n      }\n    },\n    {\n      \"column\": \"label\",\n      \"properties\": {\n        \"dtype\": \"category\",\n        \"num_unique_values\": 9,\n        \"samples\": [\n          \"donation_needs_or_offers_or_volunteering_services\",\n          \"other_useful_information\",\n          \"sympathy_and_emotional_support\"\n        ],\n        \"semantic_type\": \"\",\n        \"description\": \"\"\n      }\n    }\n  ]\n}"
            }
          },
          "metadata": {},
          "execution_count": 3
        }
      ]
    },
    {
      "cell_type": "code",
      "source": [
        "df.shape"
      ],
      "metadata": {
        "colab": {
          "base_uri": "https://localhost:8080/"
        },
        "id": "bt2CQ8UF3OPq",
        "outputId": "0fa1f3f1-a67d-430b-90e6-97dc6312b251"
      },
      "execution_count": 4,
      "outputs": [
        {
          "output_type": "execute_result",
          "data": {
            "text/plain": [
              "(1701, 3)"
            ]
          },
          "metadata": {},
          "execution_count": 4
        }
      ]
    },
    {
      "cell_type": "code",
      "source": [
        "df['label'].value_counts()"
      ],
      "metadata": {
        "colab": {
          "base_uri": "https://localhost:8080/",
          "height": 397
        },
        "id": "BWrIiDkS4DgI",
        "outputId": "08e91881-1c73-4c48-d7fa-11919fca3b82"
      },
      "execution_count": 5,
      "outputs": [
        {
          "output_type": "execute_result",
          "data": {
            "text/plain": [
              "label\n",
              "other_useful_information                             868\n",
              "infrastructure_and_utilities_damage                  305\n",
              "injured_or_dead_people                               183\n",
              "not_related_or_irrelevant                            106\n",
              "sympathy_and_emotional_support                        80\n",
              "donation_needs_or_offers_or_volunteering_services     77\n",
              "caution_and_advice                                    72\n",
              "missing_trapped_or_found_people                        6\n",
              "displaced_people_and_evacuations                       4\n",
              "Name: count, dtype: int64"
            ],
            "text/html": [
              "<div>\n",
              "<style scoped>\n",
              "    .dataframe tbody tr th:only-of-type {\n",
              "        vertical-align: middle;\n",
              "    }\n",
              "\n",
              "    .dataframe tbody tr th {\n",
              "        vertical-align: top;\n",
              "    }\n",
              "\n",
              "    .dataframe thead th {\n",
              "        text-align: right;\n",
              "    }\n",
              "</style>\n",
              "<table border=\"1\" class=\"dataframe\">\n",
              "  <thead>\n",
              "    <tr style=\"text-align: right;\">\n",
              "      <th></th>\n",
              "      <th>count</th>\n",
              "    </tr>\n",
              "    <tr>\n",
              "      <th>label</th>\n",
              "      <th></th>\n",
              "    </tr>\n",
              "  </thead>\n",
              "  <tbody>\n",
              "    <tr>\n",
              "      <th>other_useful_information</th>\n",
              "      <td>868</td>\n",
              "    </tr>\n",
              "    <tr>\n",
              "      <th>infrastructure_and_utilities_damage</th>\n",
              "      <td>305</td>\n",
              "    </tr>\n",
              "    <tr>\n",
              "      <th>injured_or_dead_people</th>\n",
              "      <td>183</td>\n",
              "    </tr>\n",
              "    <tr>\n",
              "      <th>not_related_or_irrelevant</th>\n",
              "      <td>106</td>\n",
              "    </tr>\n",
              "    <tr>\n",
              "      <th>sympathy_and_emotional_support</th>\n",
              "      <td>80</td>\n",
              "    </tr>\n",
              "    <tr>\n",
              "      <th>donation_needs_or_offers_or_volunteering_services</th>\n",
              "      <td>77</td>\n",
              "    </tr>\n",
              "    <tr>\n",
              "      <th>caution_and_advice</th>\n",
              "      <td>72</td>\n",
              "    </tr>\n",
              "    <tr>\n",
              "      <th>missing_trapped_or_found_people</th>\n",
              "      <td>6</td>\n",
              "    </tr>\n",
              "    <tr>\n",
              "      <th>displaced_people_and_evacuations</th>\n",
              "      <td>4</td>\n",
              "    </tr>\n",
              "  </tbody>\n",
              "</table>\n",
              "</div><br><label><b>dtype:</b> int64</label>"
            ]
          },
          "metadata": {},
          "execution_count": 5
        }
      ]
    },
    {
      "cell_type": "code",
      "source": [
        "# converting to lists\n",
        "X= list(df['tweet_text'])\n",
        "Y= list(df['label'])"
      ],
      "metadata": {
        "id": "xskyZUiU3Pfa"
      },
      "execution_count": 6,
      "outputs": []
    },
    {
      "cell_type": "code",
      "source": [
        "# label conding of Target Variable:\n",
        "from sklearn.preprocessing import LabelEncoder\n",
        "le = LabelEncoder()\n",
        "Y = le.fit_transform(Y)"
      ],
      "metadata": {
        "id": "IaCTt0Yv3jEf"
      },
      "execution_count": 7,
      "outputs": []
    },
    {
      "cell_type": "code",
      "source": [
        "print(Y)"
      ],
      "metadata": {
        "colab": {
          "base_uri": "https://localhost:8080/"
        },
        "id": "4KiaeSnH35RY",
        "outputId": "a8f01b72-e865-49d5-e9a6-f36f1ff226a8"
      },
      "execution_count": 8,
      "outputs": [
        {
          "output_type": "stream",
          "name": "stdout",
          "text": [
            "[3 7 7 ... 4 3 7]\n"
          ]
        }
      ]
    },
    {
      "cell_type": "code",
      "source": [
        "# Train-test Splitting:\n",
        "from sklearn.model_selection import train_test_split\n",
        "X_train, X_test, y_train, y_test = train_test_split(X, Y, test_size=0.2, random_state=42)"
      ],
      "metadata": {
        "id": "uTqenNbK39Jq"
      },
      "execution_count": 9,
      "outputs": []
    },
    {
      "cell_type": "code",
      "source": [
        "#Installing Transformers:\n",
        "\n",
        "!pip install transformers"
      ],
      "metadata": {
        "colab": {
          "base_uri": "https://localhost:8080/"
        },
        "id": "CRf8egHs4aNb",
        "outputId": "359bbb43-d15f-46c1-f535-75c7013044b0"
      },
      "execution_count": 10,
      "outputs": [
        {
          "output_type": "stream",
          "name": "stdout",
          "text": [
            "Requirement already satisfied: transformers in /usr/local/lib/python3.10/dist-packages (4.42.4)\n",
            "Requirement already satisfied: filelock in /usr/local/lib/python3.10/dist-packages (from transformers) (3.15.4)\n",
            "Requirement already satisfied: huggingface-hub<1.0,>=0.23.2 in /usr/local/lib/python3.10/dist-packages (from transformers) (0.23.5)\n",
            "Requirement already satisfied: numpy<2.0,>=1.17 in /usr/local/lib/python3.10/dist-packages (from transformers) (1.26.4)\n",
            "Requirement already satisfied: packaging>=20.0 in /usr/local/lib/python3.10/dist-packages (from transformers) (24.1)\n",
            "Requirement already satisfied: pyyaml>=5.1 in /usr/local/lib/python3.10/dist-packages (from transformers) (6.0.2)\n",
            "Requirement already satisfied: regex!=2019.12.17 in /usr/local/lib/python3.10/dist-packages (from transformers) (2024.5.15)\n",
            "Requirement already satisfied: requests in /usr/local/lib/python3.10/dist-packages (from transformers) (2.32.3)\n",
            "Requirement already satisfied: safetensors>=0.4.1 in /usr/local/lib/python3.10/dist-packages (from transformers) (0.4.4)\n",
            "Requirement already satisfied: tokenizers<0.20,>=0.19 in /usr/local/lib/python3.10/dist-packages (from transformers) (0.19.1)\n",
            "Requirement already satisfied: tqdm>=4.27 in /usr/local/lib/python3.10/dist-packages (from transformers) (4.66.5)\n",
            "Requirement already satisfied: fsspec>=2023.5.0 in /usr/local/lib/python3.10/dist-packages (from huggingface-hub<1.0,>=0.23.2->transformers) (2024.6.1)\n",
            "Requirement already satisfied: typing-extensions>=3.7.4.3 in /usr/local/lib/python3.10/dist-packages (from huggingface-hub<1.0,>=0.23.2->transformers) (4.12.2)\n",
            "Requirement already satisfied: charset-normalizer<4,>=2 in /usr/local/lib/python3.10/dist-packages (from requests->transformers) (3.3.2)\n",
            "Requirement already satisfied: idna<4,>=2.5 in /usr/local/lib/python3.10/dist-packages (from requests->transformers) (3.7)\n",
            "Requirement already satisfied: urllib3<3,>=1.21.1 in /usr/local/lib/python3.10/dist-packages (from requests->transformers) (2.0.7)\n",
            "Requirement already satisfied: certifi>=2017.4.17 in /usr/local/lib/python3.10/dist-packages (from requests->transformers) (2024.7.4)\n"
          ]
        }
      ]
    },
    {
      "cell_type": "code",
      "source": [
        "# 1> call the pretrained model\n",
        "# 2> Call the related tokenizer\n",
        "# loading the pretrained DistilBERT model for sequence classification.\n",
        "from transformers import DistilBertTokenizerFast\n",
        "tokenizer = DistilBertTokenizerFast.from_pretrained('distilbert-base-uncased')"
      ],
      "metadata": {
        "colab": {
          "base_uri": "https://localhost:8080/"
        },
        "id": "e7TSXEwZ4gsg",
        "outputId": "7fc0a01b-d396-4f68-f2f4-b74c2b94f9bf"
      },
      "execution_count": 11,
      "outputs": [
        {
          "output_type": "stream",
          "name": "stderr",
          "text": [
            "/usr/local/lib/python3.10/dist-packages/huggingface_hub/utils/_token.py:89: UserWarning: \n",
            "The secret `HF_TOKEN` does not exist in your Colab secrets.\n",
            "To authenticate with the Hugging Face Hub, create a token in your settings tab (https://huggingface.co/settings/tokens), set it as secret in your Google Colab and restart your session.\n",
            "You will be able to reuse this secret in all of your notebooks.\n",
            "Please note that authentication is recommended but still optional to access public models or datasets.\n",
            "  warnings.warn(\n"
          ]
        }
      ]
    },
    {
      "cell_type": "code",
      "source": [
        "train_encodings = tokenizer(X_train, truncation=True, padding=True)\n",
        "test_encodings = tokenizer(X_test, truncation=True, padding=True)"
      ],
      "metadata": {
        "id": "8XCn-I2y5EKQ"
      },
      "execution_count": 12,
      "outputs": []
    },
    {
      "cell_type": "code",
      "source": [
        "# Convert Tokenized Data into TensorFlow Dataset Objects:\n",
        "import tensorflow as tf\n",
        "\n",
        "train_dataset = tf.data.Dataset.from_tensor_slices((\n",
        "    dict(train_encodings),\n",
        "    y_train\n",
        ")).batch(16)\n",
        "\n",
        "test_dataset = tf.data.Dataset.from_tensor_slices((\n",
        "    dict(test_encodings),\n",
        "    y_test\n",
        ")).batch(16)"
      ],
      "metadata": {
        "id": "S-yBab_N5M11"
      },
      "execution_count": 13,
      "outputs": []
    },
    {
      "cell_type": "code",
      "source": [
        "from transformers import TFDistilBertForSequenceClassification,DistilBertTokenizer\n",
        "\n",
        "# Determine the number of classes in your dataset\n",
        "num_labels = len(set(y_train))\n",
        "\n",
        "# Define your distribution strategy\n",
        "strategy = tf.distribute.MirroredStrategy()\n",
        "\n",
        "# Use the strategy's scope to create and compile the model\n",
        "with strategy.scope():\n",
        "    model = TFDistilBertForSequenceClassification.from_pretrained(\"distilbert-base-uncased\", num_labels = num_labels)\n",
        "    # Compile the model with an optimizer, loss function, and metrics\n",
        "    model.compile(optimizer=tf.keras.optimizers.Adam(learning_rate=5e-5),\n",
        "                  loss=tf.keras.losses.SparseCategoricalCrossentropy(from_logits=True),\n",
        "                  metrics=['accuracy'])\n"
      ],
      "metadata": {
        "colab": {
          "base_uri": "https://localhost:8080/"
        },
        "id": "MQeHi0i15hz2",
        "outputId": "77b86afa-b303-4af8-b76c-06de3651d4e3"
      },
      "execution_count": 16,
      "outputs": [
        {
          "output_type": "stream",
          "name": "stderr",
          "text": [
            "Some weights of the PyTorch model were not used when initializing the TF 2.0 model TFDistilBertForSequenceClassification: ['vocab_layer_norm.weight', 'vocab_transform.weight', 'vocab_layer_norm.bias', 'vocab_transform.bias', 'vocab_projector.bias']\n",
            "- This IS expected if you are initializing TFDistilBertForSequenceClassification from a PyTorch model trained on another task or with another architecture (e.g. initializing a TFBertForSequenceClassification model from a BertForPreTraining model).\n",
            "- This IS NOT expected if you are initializing TFDistilBertForSequenceClassification from a PyTorch model that you expect to be exactly identical (e.g. initializing a TFBertForSequenceClassification model from a BertForSequenceClassification model).\n",
            "Some weights or buffers of the TF 2.0 model TFDistilBertForSequenceClassification were not initialized from the PyTorch model and are newly initialized: ['pre_classifier.weight', 'pre_classifier.bias', 'classifier.weight', 'classifier.bias']\n",
            "You should probably TRAIN this model on a down-stream task to be able to use it for predictions and inference.\n"
          ]
        }
      ]
    },
    {
      "cell_type": "code",
      "source": [
        "# Train the model\n",
        "history= model.fit(train_dataset, validation_data=test_dataset, epochs=3)"
      ],
      "metadata": {
        "colab": {
          "base_uri": "https://localhost:8080/"
        },
        "id": "51Q45R1U9XDM",
        "outputId": "24824914-4fef-4cf2-eec1-cc83ccbc8c76"
      },
      "execution_count": 17,
      "outputs": [
        {
          "output_type": "stream",
          "name": "stdout",
          "text": [
            "Epoch 1/3\n",
            "85/85 [==============================] - 724s 8s/step - loss: 1.3710 - accuracy: 0.5801 - val_loss: 0.9115 - val_accuracy: 0.7243\n",
            "Epoch 2/3\n",
            "85/85 [==============================] - 685s 8s/step - loss: 0.7545 - accuracy: 0.7750 - val_loss: 0.7444 - val_accuracy: 0.7566\n",
            "Epoch 3/3\n",
            "85/85 [==============================] - 674s 8s/step - loss: 0.5412 - accuracy: 0.8279 - val_loss: 0.7660 - val_accuracy: 0.7566\n"
          ]
        },
        {
          "output_type": "execute_result",
          "data": {
            "text/plain": [
              "<tf_keras.src.callbacks.History at 0x7b68de95aaa0>"
            ]
          },
          "metadata": {},
          "execution_count": 17
        }
      ]
    },
    {
      "cell_type": "code",
      "source": [
        "# You can monitor the training progress using the history object.\n",
        "# It contains the training and validation loss and accuracy for each epoch.\n",
        "import matplotlib.pyplot as plt\n",
        "\n",
        "# Plot training & validation accuracy values\n",
        "plt.plot(history.history['accuracy'])\n",
        "plt.plot(history.history['val_accuracy'])\n",
        "plt.title('Model accuracy')\n",
        "plt.xlabel('Epoch')\n",
        "plt.ylabel('Accuracy')\n",
        "plt.legend(['Train', 'Test'], loc='upper left')\n",
        "plt.show()\n",
        "\n",
        "# Plot training & validation loss values\n",
        "plt.plot(history.history['loss'])\n",
        "plt.plot(history.history['val_loss'])\n",
        "plt.title('Model loss')\n",
        "plt.xlabel('Epoch')\n",
        "plt.ylabel('Loss')\n",
        "plt.legend(['Train', 'Test'], loc='upper left')\n",
        "plt.show()\n"
      ],
      "metadata": {
        "id": "VOCJJmMBUTgG"
      },
      "execution_count": null,
      "outputs": []
    },
    {
      "cell_type": "code",
      "source": [
        "#Evaluation: Once the training is complete, evaluate your model's performance on a held-out test set (if you have one separate from your validation set).\n",
        "#  Use the model.evaluate() method to calculate metrics like accuracy, precision, recall, or F1-score.\n",
        "#  Evaluate the model on a separate test set (if available)\n",
        "loss, accuracy = model.evaluate(test_dataset)\n",
        "print(\"Test loss:\", loss)\n",
        "print(\"Test accuracy:\", accuracy)"
      ],
      "metadata": {
        "colab": {
          "base_uri": "https://localhost:8080/"
        },
        "id": "BzQ5TDtgE0hU",
        "outputId": "bd579ac0-dd0f-43d0-e405-23b09bab88ee"
      },
      "execution_count": 19,
      "outputs": [
        {
          "output_type": "stream",
          "name": "stdout",
          "text": [
            "22/22 [==============================] - 76s 3s/step - loss: 0.7660 - accuracy: 0.7566\n",
            "Test loss: 0.7660411596298218\n",
            "Test accuracy: 0.7565982341766357\n"
          ]
        }
      ]
    },
    {
      "cell_type": "code",
      "source": [
        "# prompt: evaluate f1 score and confusion matrix\n",
        "\n",
        "from sklearn.metrics import f1_score, confusion_matrix\n",
        "import seaborn as sns\n",
        "\n",
        "# Get predictions\n",
        "y_pred_probs = model.predict(test_dataset)\n",
        "y_pred = np.argmax(y_pred_probs, axis=1)\n",
        "\n",
        "# Calculate F1-score\n",
        "f1 = f1_score(y_test, y_pred, average='weighted')  # Use 'weighted' for multi-class\n",
        "print(\"F1-score:\", f1)\n",
        "\n",
        "# Calculate confusion matrix\n",
        "cm = confusion_matrix(y_test, y_pred)\n",
        "\n",
        "# Plot confusion matrix\n",
        "plt.figure(figsize=(10, 7))\n",
        "sns.heatmap(cm, annot=True, fmt='d')\n",
        "plt.title('Confusion Matrix')\n",
        "plt.xlabel('Predicted Label')\n",
        "plt.ylabel('True Label')\n",
        "plt.show()\n"
      ],
      "metadata": {
        "id": "qYjRFD8PeDOa"
      },
      "execution_count": null,
      "outputs": []
    },
    {
      "cell_type": "code",
      "source": [
        "# Make predictions on new data\n",
        "new_text = [\"RT @nbcbayarea: Napa: Skaters find upside to quake damage. Video: http://t.co/vsKpdwYZWK (Pic: Jeremy Carroll) http://t.co/wcEqkR1RtW\"]\n",
        "new_encodings = tokenizer(new_text, truncation=True, padding=True)\n",
        "new_dataset = tf.data.Dataset.from_tensor_slices(dict(new_encodings)).batch(1)\n",
        "predictions = model.predict(new_dataset)\n",
        "\n",
        "# Process predictions to get the predicted class labels (e.g., using argmax)\n",
        "predicted_labels = np.argmax(predictions.logits, axis=1)\n",
        "print(predicted_labels)"
      ],
      "metadata": {
        "colab": {
          "base_uri": "https://localhost:8080/"
        },
        "id": "xaIeKH5aPrNG",
        "outputId": "e87b7eca-be1a-4ade-8226-4d6f9230d38a"
      },
      "execution_count": 21,
      "outputs": [
        {
          "output_type": "stream",
          "name": "stdout",
          "text": [
            "1/1 [==============================] - 3s 3s/step\n",
            "[7]\n"
          ]
        }
      ]
    },
    {
      "cell_type": "code",
      "source": [
        "# Convert label indices to original labels\n",
        "predicted_labels_text = le.inverse_transform(predicted_labels)\n",
        "print(\"Predicted labels (text):\", predicted_labels_text)\n"
      ],
      "metadata": {
        "colab": {
          "base_uri": "https://localhost:8080/"
        },
        "id": "ltgIcUaJVCMK",
        "outputId": "808cde4a-c512-436b-a260-7e24eb56d84e"
      },
      "execution_count": 22,
      "outputs": [
        {
          "output_type": "stream",
          "name": "stdout",
          "text": [
            "Predicted labels (text): ['other_useful_information']\n"
          ]
        }
      ]
    },
    {
      "cell_type": "code",
      "source": [
        "# Fine-tuning and Optimization (Optional): If you are not satisfied with the model's performance, you can further fine-tune it:\n",
        "\n",
        "# Hyperparameter Tuning: Experiment with different hyperparameters like learning rate, batch size, and number of epochs to find the optimal settings.\n",
        "# Layer Freezing: Freeze certain layers of the pre-trained model and train only the remaining layers to prevent overfitting on smaller datasets.\n",
        "# Data Augmentation: Increase the size and diversity of your training data by applying techniques like text augmentation.\n",
        "# Deployment (Optional): If you want to use your model in a real-world application, you'll need to deploy it. This could involve creating an API or integrating it into a larger system.\n",
        "\n",
        "# Remember to save your trained model using model.save() so you can reuse it later without retraining."
      ],
      "metadata": {
        "id": "SXkJHE1LQgJJ"
      },
      "execution_count": null,
      "outputs": []
    },
    {
      "cell_type": "code",
      "source": [
        "# Save the model to a directory\n",
        "model.save_pretrained('saved_model')\n",
        "tokenizer.save_pretrained('saved_model')\n"
      ],
      "metadata": {
        "colab": {
          "base_uri": "https://localhost:8080/"
        },
        "id": "tPx3b3n5VOdN",
        "outputId": "e88dfb88-aef7-480d-b164-04110f673e81"
      },
      "execution_count": 23,
      "outputs": [
        {
          "output_type": "execute_result",
          "data": {
            "text/plain": [
              "('saved_model/tokenizer_config.json',\n",
              " 'saved_model/special_tokens_map.json',\n",
              " 'saved_model/vocab.txt',\n",
              " 'saved_model/added_tokens.json',\n",
              " 'saved_model/tokenizer.json')"
            ]
          },
          "metadata": {},
          "execution_count": 23
        }
      ]
    },
    {
      "cell_type": "markdown",
      "source": [],
      "metadata": {
        "id": "Q2PQhJfSWx_5"
      }
    },
    {
      "cell_type": "markdown",
      "source": [
        "Integration:"
      ],
      "metadata": {
        "id": "-VVIOAl5WwJ-"
      }
    },
    {
      "cell_type": "code",
      "source": [
        "# pip install Flask transformers tensorflow\n"
      ],
      "metadata": {
        "id": "HgszRYPKZEYT"
      },
      "execution_count": 38,
      "outputs": []
    },
    {
      "cell_type": "code",
      "source": [
        "from flask import Flask, request, jsonify\n",
        "from transformers import TFDistilBertForSequenceClassification, DistilBertTokenizer\n",
        "import tensorflow as tf\n",
        "import numpy as np\n",
        "\n",
        "app = Flask(__name__)\n",
        "\n",
        "# Load the pretrained BERT model and tokenizer\n",
        "model = TFDistilBertForSequenceClassification.from_pretrained('saved_model')\n",
        "tokenizer = DistilBertTokenizer.from_pretrained('saved_model')\n",
        "\n",
        "# Define a route for predictions\n",
        "@app.route('/predict', methods=['POST'])\n",
        "def predict():\n",
        "    try:\n",
        "        # Get JSON data from request\n",
        "        data = request.json\n",
        "        text = data.get('text', '')\n",
        "\n",
        "        # Tokenize the text\n",
        "        encodings = tokenizer(text, truncation=True, padding=True, max_length=128, return_tensors='tf')\n",
        "        input_ids = encodings['input_ids']\n",
        "\n",
        "        # Make prediction\n",
        "        predictions = model(input_ids)\n",
        "        logits = predictions.logits\n",
        "        predicted_label = np.argmax(logits, axis=1).tolist()\n",
        "\n",
        "        return jsonify({'predicted_label': predicted_label})\n",
        "\n",
        "    except Exception as e:\n",
        "        return jsonify({'error': str(e)}), 400\n",
        "\n",
        "if __name__ == '__main__':\n",
        "    app.run(debug=True)\n"
      ],
      "metadata": {
        "colab": {
          "base_uri": "https://localhost:8080/"
        },
        "id": "sdvgvWndcPIP",
        "outputId": "9fbb5f30-37a4-4d37-b0f7-a843a635a4a4"
      },
      "execution_count": 37,
      "outputs": [
        {
          "output_type": "stream",
          "name": "stderr",
          "text": [
            "Some layers from the model checkpoint at saved_model were not used when initializing TFDistilBertForSequenceClassification: ['dropout_39']\n",
            "- This IS expected if you are initializing TFDistilBertForSequenceClassification from the checkpoint of a model trained on another task or with another architecture (e.g. initializing a BertForSequenceClassification model from a BertForPreTraining model).\n",
            "- This IS NOT expected if you are initializing TFDistilBertForSequenceClassification from the checkpoint of a model that you expect to be exactly identical (initializing a BertForSequenceClassification model from a BertForSequenceClassification model).\n",
            "Some layers of TFDistilBertForSequenceClassification were not initialized from the model checkpoint at saved_model and are newly initialized: ['dropout_199']\n",
            "You should probably TRAIN this model on a down-stream task to be able to use it for predictions and inference.\n"
          ]
        },
        {
          "output_type": "stream",
          "name": "stdout",
          "text": [
            " * Serving Flask app '__main__'\n",
            " * Debug mode: on\n"
          ]
        },
        {
          "output_type": "stream",
          "name": "stderr",
          "text": [
            "INFO:werkzeug:\u001b[31m\u001b[1mWARNING: This is a development server. Do not use it in a production deployment. Use a production WSGI server instead.\u001b[0m\n",
            " * Running on http://127.0.0.1:5000\n",
            "INFO:werkzeug:\u001b[33mPress CTRL+C to quit\u001b[0m\n",
            "INFO:werkzeug: * Restarting with stat\n"
          ]
        }
      ]
    },
    {
      "cell_type": "code",
      "source": [
        "# prompt: summarise the entire steps we have followed from 1st line of code and what all errors we faced and how we have tackled all the errors.\n",
        "\n",
        "# Summary of Steps and Error Handling\n",
        "\n",
        "# 1. Data Loading and Preprocessing:\n",
        "#    - Loaded data from 'output.csv' into a pandas DataFrame.\n",
        "#    - Explored data using df.head() and df.shape.\n",
        "#    - Checked class distribution with df['label'].value_counts().\n",
        "#    - Converted text and labels to lists for further processing.\n",
        "#    - Used LabelEncoder to encode categorical labels.\n",
        "\n",
        "# 2. Train-Test Split:\n",
        "#    - Split data into training and testing sets using train_test_split.\n",
        "\n",
        "# 3. Model Selection and Tokenization:\n",
        "#    - Installed transformers library for using DistilBERT model.\n",
        "#    - Loaded DistilBertTokenizerFast for tokenizing text.\n",
        "#    - Tokenized training and testing data.\n",
        "\n",
        "# 4. Dataset Creation:\n",
        "#    - Converted tokenized data into TensorFlow Dataset objects for efficient training.\n",
        "\n",
        "# 5. Model Definition and Compilation:\n",
        "#    - Determined the number of classes for classification.\n",
        "#    - Used MirroredStrategy for distributed training.\n",
        "#    - Loaded TFDistilBertForSequenceClassification model.\n",
        "#    - Compiled the model with Adam optimizer and appropriate loss and metrics.\n",
        "\n",
        "# 6. Model Training:\n",
        "#    - Trained the model on the training dataset, validating on the test dataset for a specified number of epochs.\n",
        "#    - Monitored training progress using the history object.\n",
        "\n",
        "# 7. Model Evaluation:\n",
        "#    - Plotted training and validation accuracy and loss curves.\n",
        "#    - Evaluated the model on the test dataset using model.evaluate().\n",
        "#    - Calculated F1-score and confusion matrix for performance assessment.\n",
        "#    - Visualized confusion matrix using seaborn heatmap.\n",
        "\n",
        "# 8. Prediction on New Data:\n",
        "#    - Tokenized new text data.\n",
        "#    - Made predictions using the trained model.\n",
        "#    - Converted predicted label indices to original labels.\n",
        "\n",
        "# 9. Model Saving:\n",
        "#    - Saved the trained model and tokenizer for later use.\n",
        "\n",
        "# 10. Flask API Development:\n",
        "#    - Installed Flask and other necessary libraries.\n",
        "#    - Created a Flask app to serve predictions.\n",
        "#    - Loaded the saved model and tokenizer.\n",
        "#    - Defined a route for handling prediction requests.\n",
        "#    - Implemented error handling for robust API functionality.\n",
        "\n",
        "# Errors Encountered and Solutions:\n",
        "\n",
        "# - No major errors were explicitly mentioned in the provided code.\n",
        "# - Potential errors and solutions in a typical workflow:\n",
        "#   - Missing libraries: Install required libraries using pip.\n",
        "#   - Shape mismatches: Ensure data dimensions are compatible for model input.\n",
        "#   - Out of memory errors: Adjust batch size or use a more powerful GPU.\n",
        "#   - Overfitting: Apply regularization, data augmentation, or early stopping.\n",
        "#   - Deployment issues: Debug and resolve errors related to server configuration, dependencies, or network connectivity.\n"
      ],
      "metadata": {
        "id": "qcXT2mgFcTYR"
      },
      "execution_count": null,
      "outputs": []
    }
  ]
}